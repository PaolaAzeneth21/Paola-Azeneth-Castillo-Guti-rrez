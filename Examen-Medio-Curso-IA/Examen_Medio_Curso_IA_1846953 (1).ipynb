{
  "nbformat": 4,
  "nbformat_minor": 0,
  "metadata": {
    "colab": {
      "name": "Examen-Medio-Curso-IA 1846953.ipynb",
      "provenance": []
    },
    "kernelspec": {
      "name": "python3",
      "display_name": "Python 3"
    },
    "language_info": {
      "name": "python"
    }
  },
  "cells": [
    {
      "cell_type": "markdown",
      "metadata": {
        "id": "Q7Gfhr_yDrV6"
      },
      "source": [
        "Paola Azeneth Castillo Gutiérrez\n",
        "Inteligencia Artificial Matrícula:1846953 \n",
        "Carrera: Ingeniero Biomédico"
      ]
    },
    {
      "cell_type": "code",
      "metadata": {
        "id": "Q38DeS2UDzjp",
        "colab": {
          "base_uri": "https://localhost:8080/"
        },
        "outputId": "6bb59c04-2e3f-4880-f45f-75be9ab4f75f"
      },
      "source": [
        "#1. Desarrollar un programa que remueva los números pares de la lista: \n",
        "ex_lista=[10,15,17,21,22,34,37,40,45,66,68,81,84,91,94,102,105,109]\n",
        "#Imprima la lista después de borrar los números impares \n",
        "def quitapares(numeros): #Se crea una función para filtrar pares \n",
        "  impar = []\n",
        "  for n in numeros:\n",
        "    if n %2 != 0: #Se pone la condición usando modulo para que se evalue cuando un elemento de la lista no sea par (división entre 2 da residuo 0 para que sea par, si da diferente entonces es impar)\n",
        "      impar.append(n) #Se elimina el elemento par de la lista \n",
        "  return impar\n",
        "ListaFiltrada= quitapares(ex_lista)\n",
        "print(ListaFiltrada)#Se imprimen los pares "
      ],
      "execution_count": 17,
      "outputs": [
        {
          "output_type": "stream",
          "name": "stdout",
          "text": [
            "[15, 17, 21, 37, 45, 81, 91, 105, 109]\n"
          ]
        }
      ]
    },
    {
      "cell_type": "code",
      "metadata": {
        "colab": {
          "base_uri": "https://localhost:8080/"
        },
        "id": "banj3pEALPWN",
        "outputId": "8c357027-0ba0-46fa-f310-6377d4fe180c"
      },
      "source": [
        "#2.Desarrollar un programa que,\n",
        "#- Pregunte al usuario por sus 5 películas favoritas (dato tipo string), empezando por la mas favorita y terminando en la posición 5 con la menos favorita. \n",
        "#- Almacene estos datos en una lista. \n",
        "#- Por último, iterar sobre la lista generada para imprimir 5 oraciones (1 con cada título de película) que digan: \"La película [TÍTULO DE PELÍCULA] está en la posición [índice+1] de mi top 5\". \n",
        "      #. TÍTULO DE PELÍCULA: corresponde a los nombres almacenados previamente en su lista. \n",
        "      #. Recordatorio: Índice es la posición de un elemento dentro de una lista. \n",
        "for i in range(5): #Se establece un for para que se repita la instrucción de preguntar por la película 5 veces \n",
        "  index =  i\n",
        "  pelifav[i]=input(\"Dime la película que más te gusta (top\" + str(index+1)+\"): \") #Se pregunta al usuario por la película favorita y se almacena en una lista llamada pelifav, se muestra la iteración en la que va preguntando\n",
        "\n",
        "for i in range (5):#Se establece un for para que se repita la instrucción de imprimir la película con su posición del top \n",
        "  índice = i \n",
        "  print(\"La película \"+ (str(pelifav[i]))+ \" está en la posición \"+ str(índice+1) + \" de mi top 5. \") #Se imprime la posición y la película asociada\n"
      ],
      "execution_count": 62,
      "outputs": [
        {
          "output_type": "stream",
          "name": "stdout",
          "text": [
            "Dime la película que más te gusta (top1): Perfect Blue\n",
            "Dime la película que más te gusta (top2): El cisne negro \n",
            "Dime la película que más te gusta (top3): Paprika \n",
            "Dime la película que más te gusta (top4): Shrek\n",
            "Dime la película que más te gusta (top5): Evangelion\n",
            "La película Perfect Blue está en la posición 1 de mi top 5. \n",
            "La película El cisne negro  está en la posición 2 de mi top 5. \n",
            "La película Paprika  está en la posición 3 de mi top 5. \n",
            "La película Shrek está en la posición 4 de mi top 5. \n",
            "La película Evangelion está en la posición 5 de mi top 5. \n"
          ]
        }
      ]
    }
  ]
}