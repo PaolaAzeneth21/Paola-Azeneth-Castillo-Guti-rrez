{
  "nbformat": 4,
  "nbformat_minor": 0,
  "metadata": {
    "colab": {
      "name": "IA_Ejercicio1_PaolaCastilloGutiérrez_1846953.ipynb",
      "provenance": []
    },
    "kernelspec": {
      "name": "python3",
      "display_name": "Python 3"
    },
    "language_info": {
      "name": "python"
    }
  },
  "cells": [
    {
      "cell_type": "code",
      "metadata": {
        "id": "Gn9uxZV93Jzg"
      },
      "source": [
        ""
      ],
      "execution_count": null,
      "outputs": []
    },
    {
      "cell_type": "markdown",
      "metadata": {
        "id": "0LTUfcFf3SzP"
      },
      "source": [
        "Actividad 2 Ejercicios de Introducción Python \n",
        "Nombre: Paola Azeneth Castillo Gutiérrez\n",
        "Matrícula:1846953\n",
        "Hora de clase:Jueves N3-N6\n"
      ]
    },
    {
      "cell_type": "code",
      "metadata": {
        "colab": {
          "base_uri": "https://localhost:8080/",
          "height": 106
        },
        "id": "7k7qyK9r32vG",
        "outputId": "6b5520cc-d457-4197-d13f-bc00069730f8"
      },
      "source": [
        "#Ejercicio 1 \n",
        "#Crear un programa que pregunte al usuario por su nombre, edad, una frase favorita y autor de la frase favorita.\n",
        "#El programa deberá de imprimir un mensaje compuesto por el nombre y edad del usuario diciendo que su frase favorita es la que dió anteriormente y el autor de dicha frase es el nombre previamente dado.\n",
        "#Aquí habrá que realizar una concatenación de variables. \n",
        "nombre=input(\"¿Cómo te llamas?\") #Aquí que le asigna un valor string a cada una de las variables \n",
        "edad=input(\"¿Cuál es tu edad?\")\n",
        "frasefav=input(\"Dime tu frase favorita\")\n",
        "autor=input(\"Quién es el autor?\")\n",
        "parrafo= \"La frase favorita de \" + nombre + \" de \" + edad + \" años\"+ \" es \"+ frasefav + \" del autor \" + autor + \".\" #Concatenación de variables \n",
        "parrafo #Impresión del parrafo completo \n"
      ],
      "execution_count": 11,
      "outputs": [
        {
          "name": "stdout",
          "output_type": "stream",
          "text": [
            "¿Cómo te llamas?Paola Castillo\n",
            "¿Cuál es tu edad?21\n",
            "Dime tu frase favorita\"Estoy solo y no hay nadie en el espejo\"\n",
            "Quién es el autor?Jorge Luis Borges\n"
          ]
        },
        {
          "output_type": "execute_result",
          "data": {
            "application/vnd.google.colaboratory.intrinsic+json": {
              "type": "string"
            },
            "text/plain": [
              "'La frase favorita de Paola Castillo de 21 años es \"Estoy solo y no hay nadie en el espejo\" del autor Jorge Luis Borges.'"
            ]
          },
          "metadata": {},
          "execution_count": 11
        }
      ]
    },
    {
      "cell_type": "code",
      "metadata": {
        "colab": {
          "base_uri": "https://localhost:8080/"
        },
        "id": "Lf_zfD_o9Vd2",
        "outputId": "03c12886-bacc-486f-b309-51bdf88ce907"
      },
      "source": [
        "#Ejercio 2\n",
        "#Crear un programa que le pida al usuario capturar dos números enteros y dos números flotantes. \n",
        "#Después, realizará la suma, resta, multiplicación y división, de ambos pares de números. \n",
        "#Como resultado se deberán de obtener 8 valores. Imprimir todos estos reultados.\n",
        "x = input(\"Ingrese el primer número entero: \") #Se usa la función input para que el usuario pueda introducir un valor de entrada \n",
        "x2 = int(x)#Se convierte el valor de entrada a entero \n",
        "y = input(\"Ingrese el segundo número entero: \")\n",
        "y2 = int(y)\n",
        "a = input(\"Ingrese el primer número flotante: \")\n",
        "a2 = float(a) #Se convierte el valor de entrada a flotante\n",
        "b = input(\"Ingrese el segundo número flotante: \")\n",
        "b2= float(b)\n",
        "sum1 = x2 + y2 #Se efectua la suma\n",
        "sum2 = a2 + b2\n",
        "rest1 = y2-x2 #Se efectua la resta\n",
        "rest2 = b2 - a2\n",
        "mult1= x2*y2 #Se efectua la multiplicación\n",
        "mult2= a2*b2\n",
        "div1= y2/x2 #Se efectua la división\n",
        "div2= b2/a2\n",
        "\n",
        "print(\"Suma números enteros: \" + str(sum1)) #Se convierte la variable entera  a string para poder concatenarla al mensaje \n",
        "print(\"Suma números flotantes: \" + str(sum2))#Se convierte la variable float  a string para poder concatenarla al mensaje\n",
        "print(\"Resta números enteros: \" + str(rest1))\n",
        "print(\"Resta números flotantes: \" + str(rest2))\n",
        "print(\"Multiplicación números enteros: \" + str(mult1))\n",
        "print(\"Multiplicación números flotantes: \" + str(mult2))\n",
        "print(\"División números enteros: \"+ str(div1))\n",
        "print(\"División números flotantes: \"+ str(div2))\n",
        "\n",
        "\n",
        "\n",
        "\n"
      ],
      "execution_count": 12,
      "outputs": [
        {
          "output_type": "stream",
          "name": "stdout",
          "text": [
            "Ingrese el primer número entero: 4\n",
            "Ingrese el segundo número entero: 5\n",
            "Ingrese el primer número flotante: 4.4\n",
            "Ingrese el segundo número flotante: 5.5\n",
            "Suma números enteros: 9\n",
            "Suma números flotantes: 9.9\n",
            "Resta números enteros: 1\n",
            "Resta números flotantes: 1.0999999999999996\n",
            "Multiplicación números enteros: 20\n",
            "Multiplicación números flotantes: 24.200000000000003\n",
            "División números enteros: 1.25\n",
            "División números flotantes: 1.25\n"
          ]
        }
      ]
    },
    {
      "cell_type": "code",
      "metadata": {
        "colab": {
          "base_uri": "https://localhost:8080/"
        },
        "id": "mA6YEOjmERzH",
        "outputId": "731e48e2-956a-4295-c7e1-85f59a21a2ae"
      },
      "source": [
        "#Ejercicio 3\n",
        "#Crear un programa que evalúe dos expresiones lógicas con `and`, dos con `or` y dos con `not`. \n",
        "#Cada expresión deberá hacer uso de operadores de comparación. \n",
        "x= int(input(\"Ingrese un número: \"))\n",
        "y=int(input(\"Ingrese un segundo número: \"))\n",
        "modul=x%2\n",
        "modul2=y%2\n",
        "modul3=x%3\n",
        "modul32=y%3\n",
        "if x>0 and modul==0 and y>0 and modul2==0:\n",
        " print(\"Los dos números son positivos y pares\")\n",
        "\n",
        "if y>0 and x==y:\n",
        " print(\"Sus dos números son iguales\")\n",
        "\n",
        "if y<0 or x<0:\n",
        "  print (\"Alguno de sus números es negativo\")\n",
        "\n",
        "if modul3==0 or modul32==0:\n",
        " print (\"Alguno de sus números es divisible por tres\")\n",
        "\n",
        "if not(x>y):\n",
        "   print(\"El primer número es menor o igual que el segundo\")\n",
        "\n",
        "if not(x<y): \n",
        "  print(\"El primer número es mayor o igual que el segundo\")\n",
        " \n",
        "\n",
        "\n",
        "\n",
        "\n"
      ],
      "execution_count": 23,
      "outputs": [
        {
          "output_type": "stream",
          "name": "stdout",
          "text": [
            "Ingrese un número: 3\n",
            "Ingrese un segundo número: 2\n",
            "Alguno de sus números es divisible por tres\n",
            "El primer número es mayor o igual que el segundo\n"
          ]
        }
      ]
    }
  ]
}