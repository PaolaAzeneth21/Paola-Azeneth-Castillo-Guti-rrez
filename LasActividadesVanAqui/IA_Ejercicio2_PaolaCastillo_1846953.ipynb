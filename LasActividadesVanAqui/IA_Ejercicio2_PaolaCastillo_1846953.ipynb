{
  "nbformat": 4,
  "nbformat_minor": 0,
  "metadata": {
    "colab": {
      "name": "IA_Ejercicio2_PaolaCastillo_1846953.ipynb",
      "provenance": [],
      "collapsed_sections": []
    },
    "kernelspec": {
      "name": "python3",
      "display_name": "Python 3"
    },
    "language_info": {
      "name": "python"
    }
  },
  "cells": [
    {
      "cell_type": "markdown",
      "metadata": {
        "id": "fSKE_uRiPoIs"
      },
      "source": [
        "Actividad 3 Ejercicios de Introducción Python 2da parte Nombre: Paola Azeneth Castillo Gutiérrez Matrícula:1846953 Hora de clase:Jueves N3-N6"
      ]
    },
    {
      "cell_type": "code",
      "metadata": {
        "colab": {
          "base_uri": "https://localhost:8080/"
        },
        "id": "i1z86K0sPpTz",
        "outputId": "f2d7908d-038c-44da-c465-01d6384075bb"
      },
      "source": [
        "#Ejercicio 1:\n",
        "#1.1 Piensa en 7 comidas diferente que te gusten. Implementa un programa que pregunte por las 7 comidas, las almacene en una lista y \n",
        "#que posteriermente imprima cada una de ellas utilizando uno de los ciclos comentados en clase. \n",
        "comida1=input(\"Dime una comida que te gusta: \") #Se le pide al usuario que ingrese una comida y se guarda en un variable\n",
        "comida2=input(\"Dime otra comida que te gusta: \")\n",
        "comida3=input(\"Dime una comida que te gusta, otra vez: \")\n",
        "comida4=input(\"Dime una comida que te gusta (ya merito acabamos): \")\n",
        "comida5=input(\"Creo que ya sabes de que va esto, hazlo de nuevo: \")\n",
        "comida6=input(\"Ya casi, lo prometo, vuelve a decirme otra: \")\n",
        "comida7=input(\"Es la última vez que te lo pido, escribe otra comida que te guste: \")\n",
        "comiditas=[comida1,comida2,comida3,comida4,comida5,comida6,comida7]#Se almacenan todas las variables en una lista \n",
        "print(\"\\nAhora vamos a decirte las 7 comidas con las cuales eres capaz de sobrevivir hasta que te mueras (deberías considerar ir a un nutriologo xd) : \")\n",
        "for x in comiditas:\n",
        "  print (x) #Se imprime la lista de comiditas "
      ],
      "execution_count": 4,
      "outputs": [
        {
          "output_type": "stream",
          "name": "stdout",
          "text": [
            "Dime una comida que te gusta: Sushi\n",
            "Dime otra comida que te gusta: Tamales\n",
            "Dime una comida que te gusta, otra vez: Quesadillas (con queso) \n",
            "Dime una comida que te gusta (ya merito acabamos): Churros \n",
            "Creo que ya sabes de que va esto, hazlo de nuevo: Pan de muerto\n",
            "Ya casi, lo prometo, vuelve a decirme otra: Pizza hawaiana \n",
            "Es la última vez que te lo pido, escribe otra comida que te guste: Elote con todo \n",
            "\n",
            "Ahora vamos a decirte las 7 comidas con las cuales eres capaz de sobrevivir hasta que te mueras (deberías considerar ir a un nutriologo xd) : \n",
            "Sushi\n",
            "Tamales\n",
            "Quesadillas (con queso) \n",
            "Churros \n",
            "Pan de muerto\n",
            "Pizza hawaiana \n",
            "Elote con todo \n"
          ]
        }
      ]
    },
    {
      "cell_type": "code",
      "metadata": {
        "colab": {
          "base_uri": "https://localhost:8080/"
        },
        "id": "ULPkjBOtUmoV",
        "outputId": "51d1d731-f1e1-4b24-924a-0deaa895bda0"
      },
      "source": [
        "#1.2 Modifica el ejercicio 1.1 para que imprima cada una de las comidas favoritas junto con una oracición inicial: \n",
        "#\"Una de mis comidas favoritas es [comida1]\".  \n",
        "comida1=input(\"Dime una comida que te gusta: \") #Se le pide al usuario que ingrese una comida y se guarda en un variable\n",
        "comida2=input(\"Dime otra comida que te gusta: \")\n",
        "comida3=input(\"Dime una comida que te gusta, otra vez: \")\n",
        "comida4=input(\"Dime una comida que te gusta (ya merito acabamos): \")\n",
        "comida5=input(\"Creo que ya sabes de que va esto, hazlo de nuevo: \")\n",
        "comida6=input(\"Ya casi, lo prometo, vuelve a decirme otra: \")\n",
        "comida7=input(\"Es la última vez que te lo pido, escribe otra comida que te guste: \")\n",
        "comiditas=[comida1,comida2,comida3,comida4,comida5,comida6,comida7]#Se almacenan todas las variables en una lista \n",
        "print(\"\\nAhora vamos a decirte las 7 comidas con las cuales eres capaz de sobrevivir hasta que te mueras (deberías considerar ir a un nutriologo xd) : \")\n",
        "for x in comiditas:\n",
        "  print (\"Una de mis comidas favoritas es \"+ x) #Se imprime la lista de comiditas junto a frase en cada iteración"
      ],
      "execution_count": 6,
      "outputs": [
        {
          "output_type": "stream",
          "name": "stdout",
          "text": [
            "Dime una comida que te gusta: Churros\n",
            "Dime otra comida que te gusta: Elote con todo\n",
            "Dime una comida que te gusta, otra vez: Pan de muerto\n",
            "Dime una comida que te gusta (ya merito acabamos): Pollo asado \n",
            "Creo que ya sabes de que va esto, hazlo de nuevo: Ensalada (jajaja ya mero) \n",
            "Ya casi, lo prometo, vuelve a decirme otra: Hamburguesa del Carls Jr\n",
            "Es la última vez que te lo pido, escribe otra comida que te guste: Pirata\n",
            "\n",
            "Ahora vamos a decirte las 7 comidas con las cuales eres capaz de sobrevivir hasta que te mueras (deberías considerar ir a un nutriologo xd) : \n",
            "Una de mis comidas favoritas es Churros\n",
            "Una de mis comidas favoritas es Elote con todo\n",
            "Una de mis comidas favoritas es Pan de muerto\n",
            "Una de mis comidas favoritas es Pollo asado \n",
            "Una de mis comidas favoritas es Ensalada (jajaja ya mero) \n",
            "Una de mis comidas favoritas es Hamburguesa del Carls Jr\n",
            "Una de mis comidas favoritas es Pirata\n"
          ]
        }
      ]
    },
    {
      "cell_type": "code",
      "metadata": {
        "colab": {
          "base_uri": "https://localhost:8080/"
        },
        "id": "K8aH8UT0VjUm",
        "outputId": "00efec1a-52aa-4222-f0b1-5dbc817a6237"
      },
      "source": [
        "#Ejercicio 2\n",
        "#Crear un juego de piedra, papel o tijera de dos jugadores. \n",
        "#El programa preguntará por la opción del jugador 1 y la opción del jugador 2 y dará como resultado quien ganó el juego. \n",
        "player1=input(\"Jugador 1, te voy a pedir que tomes una decisión importante, recuerda que una vez tomada la decisión \\nya no la puedes cambiar,elije piedra, papel o tijera: \")\n",
        "player2=input(\"Jugador 2, elige sabiamente, recuerda que en la vida uno carga con el peso de sus decisiones, \\nelige piedra, papel o tijera: \") #Se le pide al usuario que tome una decisión y se guarda en una variable\n",
        "#Ahora se crean las condicionales propias del clásico juego de piedra, papel o tijera\n",
        "if player1 == 'piedra' and player2 == 'tijera':\n",
        "  print(\"Jugador 2, has tomado la decisión incorrecta, pero no te desanimes, ser humano significa equivocarse. \\nJugador 1, solo ganaste por azar y porque así esta programado el algoritmo, pero felicidades has tomado la decisión correcta. \")\n",
        "elif player1 == 'piedra' and player2 == 'papel': \n",
        "  print (\"Jugador 2, tomaste la decisión correcta, felicidades! Ojalá asi de fácil fuera tomar decisiones en la vida adulta no?. \\nJugador 1, tomaste la decisión incorrecta, no te desanimes, en este juego se pierde por azar. \")\n",
        "elif player1 == 'tijera' and player2 == 'piedra':\n",
        "  print (\"Jugador 2, felicidades! Ahora ve y hazte cargo de las decisiones de tu vida. Jugador 1, sigue participando. \")\n",
        "elif player1 == 'papel' and player2 == 'piedra' : \n",
        "  print (\"Jugador 1, ganaste! Restriegaselo al jugador 2.\\nJugador 2, al menos aquí puedes culpar al algoritmo y no a ti mismo por la mala decisión que tomaste.\")\n",
        "elif player1 == 'tijera' and player2 == 'papel' :\n",
        "  print (\"Jugador 1, felicidades!. Jugador 2, papel? En serio? Creí que eras mejor que esto. \")\n",
        "elif player1 == 'papel' and player2 == 'tijera' :\n",
        "  print (\"Jugador 2, ganaste! Restriegaselo al jugador 1.\\nJugador 1,al menos aquí puedes culpar al algoritmo y no a ti mismo por la mala decisión que tomaste.\")\n",
        "elif player2 == player1:\n",
        "  print (\"Vaya,han empatado, ganaron los dos? o perdieron los dos? Gracias por malgastar su tiempo junto conmigo. \")\n",
        "else: #Se establece un else por si se escriben opciones inválidas\n",
        "  print (\"Aprende a leer, en la instrucción te dije que eligieras solo entre piedra, papel o tijera.\")\n",
        "\n",
        "\n"
      ],
      "execution_count": 13,
      "outputs": [
        {
          "output_type": "stream",
          "name": "stdout",
          "text": [
            "Jugador 1, te voy a pedir que tomes una decisión importante, recuerda que una vez tomada la decisión \n",
            "ya no la puedes cambiar,elije piedra, papel o tijera: piedra\n",
            "Jugador 2, elige sabiamente, recuerda que en la vida uno carga con el peso de sus decisiones, \n",
            "elige piedra, papel o tijera: tijera\n",
            "Jugador 2, has tomado la decisión incorrecta, pero no te desanimes, ser humano significa equivocarse. \n",
            "Jugador 1, solo ganaste por azar y porque así esta programado el algoritmo, pero felicidades has tomado la decisión correcta. \n"
          ]
        }
      ]
    },
    {
      "cell_type": "code",
      "metadata": {
        "colab": {
          "base_uri": "https://localhost:8080/"
        },
        "id": "DQgX4rhYfvty",
        "outputId": "17cf2e75-9479-4f46-8fa9-821f3a43435d"
      },
      "source": [
        "#Ejercicio 3\n",
        "#Implementar un programa que imprima el siguiente patron:\n",
        "\n",
        "#123456\n",
        "#12345\n",
        "#1234\n",
        "#123\n",
        "#12\n",
        "#1\n",
        "#12\n",
        "#123\n",
        "#1234\n",
        "#12345\n",
        "#123456\n",
        "listnumbers=[1,2,3,4,5,6] #Se crea una lista con todos los números \n",
        "for i in range ((len(listnumbers)),1,-1): #Se establece un rango con i para las iteraciones, la función len(listnumbers) es para que se repita por la longitud de todos los elementos dentro de la lista, el 1 es la iteración final que no se considerará, y -1 es el incremento)\n",
        "  print (listnumbers[0:i]) #El 0 dentro de la función listnumbers[] indica que se imprimira desde el 0, la i que imprimirá hasta la iteración i  en la que vaya\n",
        "  #Al llegar a la iteración 2, se imprimirá-[1,2] y ahí parará porque indicamos arriba en range((len(listnumbers)),1,-1) que parararía en la iteración 1. \n",
        "for i in range (1,len(listnumbers)+1,1): #Se establece un rango con i para las iteraciones hasta que se cumpla toda la longitud de numeros almacenados en la lista, empieza por 1 y aumenta hasta llegar a 7 incrementando de 1 en 1 \n",
        "  print (listnumbers[0:i]) #En la primera iteración imprimirá desde el 0 hasta el 1- [1]"
      ],
      "execution_count": 272,
      "outputs": [
        {
          "output_type": "stream",
          "name": "stdout",
          "text": [
            "[1, 2, 3, 4, 5, 6]\n",
            "[1, 2, 3, 4, 5]\n",
            "[1, 2, 3, 4]\n",
            "[1, 2, 3]\n",
            "[1, 2]\n",
            "[1]\n",
            "[1, 2]\n",
            "[1, 2, 3]\n",
            "[1, 2, 3, 4]\n",
            "[1, 2, 3, 4, 5]\n",
            "[1, 2, 3, 4, 5, 6]\n"
          ]
        }
      ]
    }
  ]
}